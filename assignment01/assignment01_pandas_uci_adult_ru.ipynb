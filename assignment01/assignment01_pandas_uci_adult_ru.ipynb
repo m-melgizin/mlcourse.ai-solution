{
 "cells": [
  {
   "cell_type": "markdown",
   "metadata": {},
   "source": [
    "<center>\n",
    "<img src=\"https://habrastorage.org/webt/ia/m9/zk/iam9zkyzqebnf_okxipihkgjwnw.jpeg\" />\n",
    "    \n",
    "## [mlcourse.ai](https://mlcourse.ai) - Open Machine Learning Course\n",
    "\n",
    "Автор: [Yury Kashnitsky](https://yorko.github.io). Все материалы распространяются под [Creative Commons CC BY-NC-SA 4.0](https://creativecommons.org/licenses/by-nc-sa/4.0/)."
   ]
  },
  {
   "cell_type": "markdown",
   "metadata": {},
   "source": [
    "# Задание #1\n",
    "## Анализ данных с Pandas"
   ]
  },
  {
   "cell_type": "markdown",
   "metadata": {},
   "source": [
    "**В этом задании необходимо с помощью Pandas ответить на несколько вопросов о наборе данных [Adult](https://archive.ics.uci.edu/ml/datasets/Adult). (Загружать данные не нужно - они уже есть в репозитории). Выберите ответы в [веб-форме](https://docs.google.com/forms/d/1uY7MpI2trKx6FLWZte0uVh3ULV4Cm_tDud0VDFGCOKg).**"
   ]
  },
  {
   "cell_type": "markdown",
   "metadata": {},
   "source": [
    "Уникальные значения всех характеристик (подробнее см. ссылки выше):\n",
    "- `age`: continuous.\n",
    "- `workclass`: Private, Self-emp-not-inc, Self-emp-inc, Federal-gov, Local-gov, State-gov, Without-pay, Never-worked.\n",
    "- `fnlwgt`: continuous.\n",
    "- `education`: Bachelors, Some-college, 11th, HS-grad, Prof-school, Assoc-acdm, Assoc-voc, 9th, 7th-8th, 12th, Masters, 1st-4th, 10th, Doctorate, 5th-6th, Preschool.\n",
    "- `education-num`: continuous.\n",
    "- `marital-status`: Married-civ-spouse, Divorced, Never-married, Separated, Widowed, Married-spouse-absent, Married-AF-spouse.\n",
    "- `occupation`: Tech-support, Craft-repair, Other-service, Sales, Exec-managerial, Prof-specialty, Handlers-cleaners, Machine-op-inspct, Adm-clerical, Farming-fishing, Transport-moving, Priv-house-serv, Protective-serv, Armed-Forces.\n",
    "- `relationship`: Wife, Own-child, Husband, Not-in-family, Other-relative, Unmarried.\n",
    "- `race`: White, Asian-Pac-Islander, Amer-Indian-Eskimo, Other, Black.\n",
    "- `sex`: Female, Male.\n",
    "- `capital-gain`: continuous.\n",
    "- `capital-loss`: continuous.\n",
    "- `hours-per-week`: continuous.\n",
    "- `native-country`: United-States, Cambodia, England, Puerto-Rico, Canada, Germany, Outlying-US(Guam-USVI-etc), India, Japan, Greece, South, China, Cuba, Iran, Honduras, Philippines, Italy, Poland, Jamaica, Vietnam, Mexico, Portugal, Ireland, France, Dominican-Republic, Laos, Ecuador, Taiwan, Haiti, Columbia, Hungary, Guatemala, Nicaragua, Scotland, Thailand, Yugoslavia, El-Salvador, Trinadad&Tobago, Peru, Hong, Holand-Netherlands.   \n",
    "- `salary`: >50K,<=50K"
   ]
  },
  {
   "cell_type": "code",
   "execution_count": 1,
   "metadata": {},
   "outputs": [],
   "source": [
    "import numpy as np\n",
    "import pandas as pd\n",
    "pd.set_option(\"display.max.columns\", 100)\n",
    "\n",
    "# to draw pictures in jupyter notebook\n",
    "%matplotlib inline\n",
    "import warnings\n",
    "import matplotlib.pyplot as plt\n",
    "import seaborn as sns\n",
    "\n",
    "warnings.filterwarnings(\"ignore\")"
   ]
  },
  {
   "cell_type": "code",
   "execution_count": 2,
   "metadata": {},
   "outputs": [
    {
     "data": {
      "text/html": [
       "<div>\n",
       "<style scoped>\n",
       "    .dataframe tbody tr th:only-of-type {\n",
       "        vertical-align: middle;\n",
       "    }\n",
       "\n",
       "    .dataframe tbody tr th {\n",
       "        vertical-align: top;\n",
       "    }\n",
       "\n",
       "    .dataframe thead th {\n",
       "        text-align: right;\n",
       "    }\n",
       "</style>\n",
       "<table border=\"1\" class=\"dataframe\">\n",
       "  <thead>\n",
       "    <tr style=\"text-align: right;\">\n",
       "      <th></th>\n",
       "      <th>age</th>\n",
       "      <th>workclass</th>\n",
       "      <th>fnlwgt</th>\n",
       "      <th>education</th>\n",
       "      <th>education-num</th>\n",
       "      <th>marital-status</th>\n",
       "      <th>occupation</th>\n",
       "      <th>relationship</th>\n",
       "      <th>race</th>\n",
       "      <th>sex</th>\n",
       "      <th>capital-gain</th>\n",
       "      <th>capital-loss</th>\n",
       "      <th>hours-per-week</th>\n",
       "      <th>native-country</th>\n",
       "      <th>salary</th>\n",
       "    </tr>\n",
       "  </thead>\n",
       "  <tbody>\n",
       "    <tr>\n",
       "      <th>0</th>\n",
       "      <td>39</td>\n",
       "      <td>State-gov</td>\n",
       "      <td>77516</td>\n",
       "      <td>Bachelors</td>\n",
       "      <td>13</td>\n",
       "      <td>Never-married</td>\n",
       "      <td>Adm-clerical</td>\n",
       "      <td>Not-in-family</td>\n",
       "      <td>White</td>\n",
       "      <td>Male</td>\n",
       "      <td>2174</td>\n",
       "      <td>0</td>\n",
       "      <td>40</td>\n",
       "      <td>United-States</td>\n",
       "      <td>&lt;=50K</td>\n",
       "    </tr>\n",
       "    <tr>\n",
       "      <th>1</th>\n",
       "      <td>50</td>\n",
       "      <td>Self-emp-not-inc</td>\n",
       "      <td>83311</td>\n",
       "      <td>Bachelors</td>\n",
       "      <td>13</td>\n",
       "      <td>Married-civ-spouse</td>\n",
       "      <td>Exec-managerial</td>\n",
       "      <td>Husband</td>\n",
       "      <td>White</td>\n",
       "      <td>Male</td>\n",
       "      <td>0</td>\n",
       "      <td>0</td>\n",
       "      <td>13</td>\n",
       "      <td>United-States</td>\n",
       "      <td>&lt;=50K</td>\n",
       "    </tr>\n",
       "    <tr>\n",
       "      <th>2</th>\n",
       "      <td>38</td>\n",
       "      <td>Private</td>\n",
       "      <td>215646</td>\n",
       "      <td>HS-grad</td>\n",
       "      <td>9</td>\n",
       "      <td>Divorced</td>\n",
       "      <td>Handlers-cleaners</td>\n",
       "      <td>Not-in-family</td>\n",
       "      <td>White</td>\n",
       "      <td>Male</td>\n",
       "      <td>0</td>\n",
       "      <td>0</td>\n",
       "      <td>40</td>\n",
       "      <td>United-States</td>\n",
       "      <td>&lt;=50K</td>\n",
       "    </tr>\n",
       "    <tr>\n",
       "      <th>3</th>\n",
       "      <td>53</td>\n",
       "      <td>Private</td>\n",
       "      <td>234721</td>\n",
       "      <td>11th</td>\n",
       "      <td>7</td>\n",
       "      <td>Married-civ-spouse</td>\n",
       "      <td>Handlers-cleaners</td>\n",
       "      <td>Husband</td>\n",
       "      <td>Black</td>\n",
       "      <td>Male</td>\n",
       "      <td>0</td>\n",
       "      <td>0</td>\n",
       "      <td>40</td>\n",
       "      <td>United-States</td>\n",
       "      <td>&lt;=50K</td>\n",
       "    </tr>\n",
       "    <tr>\n",
       "      <th>4</th>\n",
       "      <td>28</td>\n",
       "      <td>Private</td>\n",
       "      <td>338409</td>\n",
       "      <td>Bachelors</td>\n",
       "      <td>13</td>\n",
       "      <td>Married-civ-spouse</td>\n",
       "      <td>Prof-specialty</td>\n",
       "      <td>Wife</td>\n",
       "      <td>Black</td>\n",
       "      <td>Female</td>\n",
       "      <td>0</td>\n",
       "      <td>0</td>\n",
       "      <td>40</td>\n",
       "      <td>Cuba</td>\n",
       "      <td>&lt;=50K</td>\n",
       "    </tr>\n",
       "  </tbody>\n",
       "</table>\n",
       "</div>"
      ],
      "text/plain": [
       "   age         workclass  fnlwgt  education  education-num  \\\n",
       "0   39         State-gov   77516  Bachelors             13   \n",
       "1   50  Self-emp-not-inc   83311  Bachelors             13   \n",
       "2   38           Private  215646    HS-grad              9   \n",
       "3   53           Private  234721       11th              7   \n",
       "4   28           Private  338409  Bachelors             13   \n",
       "\n",
       "       marital-status         occupation   relationship   race     sex  \\\n",
       "0       Never-married       Adm-clerical  Not-in-family  White    Male   \n",
       "1  Married-civ-spouse    Exec-managerial        Husband  White    Male   \n",
       "2            Divorced  Handlers-cleaners  Not-in-family  White    Male   \n",
       "3  Married-civ-spouse  Handlers-cleaners        Husband  Black    Male   \n",
       "4  Married-civ-spouse     Prof-specialty           Wife  Black  Female   \n",
       "\n",
       "   capital-gain  capital-loss  hours-per-week native-country salary  \n",
       "0          2174             0              40  United-States  <=50K  \n",
       "1             0             0              13  United-States  <=50K  \n",
       "2             0             0              40  United-States  <=50K  \n",
       "3             0             0              40  United-States  <=50K  \n",
       "4             0             0              40           Cuba  <=50K  "
      ]
     },
     "execution_count": 2,
     "metadata": {},
     "output_type": "execute_result"
    }
   ],
   "source": [
    "data = pd.read_csv(\"../data/adult.data.csv\")\n",
    "data.head()"
   ]
  },
  {
   "cell_type": "markdown",
   "metadata": {},
   "source": [
    "**1. Сколько мужчин и женщин (признак *sex*) представлено в данном наборе данных?** "
   ]
  },
  {
   "cell_type": "code",
   "execution_count": 3,
   "metadata": {},
   "outputs": [
    {
     "data": {
      "text/plain": [
       "Male      21790\n",
       "Female    10771\n",
       "Name: sex, dtype: int64"
      ]
     },
     "execution_count": 3,
     "metadata": {},
     "output_type": "execute_result"
    }
   ],
   "source": [
    "data[\"sex\"].value_counts()"
   ]
  },
  {
   "cell_type": "markdown",
   "metadata": {},
   "source": [
    "**2. Каков средний возраст (признак *age*) женщин?**"
   ]
  },
  {
   "cell_type": "code",
   "execution_count": 4,
   "metadata": {},
   "outputs": [
    {
     "data": {
      "text/plain": [
       "36.85823043357163"
      ]
     },
     "execution_count": 4,
     "metadata": {},
     "output_type": "execute_result"
    }
   ],
   "source": [
    "data[data[\"sex\"] == \"Female\"][\"age\"].mean()"
   ]
  },
  {
   "cell_type": "markdown",
   "metadata": {},
   "source": [
    "**3. Какова доля (%) граждан Германии (признак *native-country*)?**"
   ]
  },
  {
   "cell_type": "code",
   "execution_count": 5,
   "metadata": {},
   "outputs": [
    {
     "data": {
      "text/plain": [
       "0.004207487485028101"
      ]
     },
     "execution_count": 5,
     "metadata": {},
     "output_type": "execute_result"
    }
   ],
   "source": [
    "np.sum(data[\"native-country\"] == \"Germany\") / data.shape[0]"
   ]
  },
  {
   "cell_type": "markdown",
   "metadata": {},
   "source": [
    "**4-5. Каковы среднее (mean) и стандартное отклонение (standard deviation) возраста для тех, кто зарабатывает более 50 тыс. в год (признак *salary*), и тех, кто зарабатывает менее 50 тыс. в год?**"
   ]
  },
  {
   "cell_type": "code",
   "execution_count": 6,
   "metadata": {},
   "outputs": [
    {
     "name": "stdout",
     "output_type": "stream",
     "text": [
      "Average age of\n",
      "\n",
      "    rich: 44+-10.5\n",
      "\n",
      "    poor: 37+-14.0\n"
     ]
    }
   ],
   "source": [
    "ages_gt50k = data[data[\"salary\"] == \">50K\"][\"age\"]\n",
    "ages_leq50k = data[data[\"salary\"] == \"<=50K\"][\"age\"]\n",
    "print(f\"\"\"Average age of\\n\n",
    "    rich: {ages_gt50k.mean():.0f}+-{ages_gt50k.std():.1f}\\n\n",
    "    poor: {ages_leq50k.mean():.0f}+-{ages_leq50k.std():.1f}\"\"\")"
   ]
  },
  {
   "cell_type": "markdown",
   "metadata": {},
   "source": [
    "**6. Верно ли, что люди, зарабатывающие более 50 тыс., имеют образование не ниже среднего? (признак *education – Bachelors, Prof-school, Assoc-acdm, Assoc-voc, Masters* или *Doctorate*)**"
   ]
  },
  {
   "cell_type": "code",
   "execution_count": 7,
   "metadata": {},
   "outputs": [
    {
     "data": {
      "text/plain": [
       "array(['HS-grad', 'Masters', 'Bachelors', 'Some-college', 'Assoc-voc',\n",
       "       'Doctorate', 'Prof-school', 'Assoc-acdm', '7th-8th', '12th',\n",
       "       '10th', '11th', '9th', '5th-6th', '1st-4th'], dtype=object)"
      ]
     },
     "execution_count": 7,
     "metadata": {},
     "output_type": "execute_result"
    }
   ],
   "source": [
    "data[data[\"salary\"] == \">50K\"][\"education\"].unique() # No"
   ]
  },
  {
   "cell_type": "markdown",
   "metadata": {},
   "source": [
    "**7. Вывести статистику возраста (признак _age_) для каждой расы (признак _race_) и каждого пола (признак _sex_). Используйте функции _groupby()_ и _describe()_. Найти максимальный возраст мужчин расы _Amer-Indian-Eskimo_**"
   ]
  },
  {
   "cell_type": "code",
   "execution_count": 8,
   "metadata": {},
   "outputs": [
    {
     "name": "stdout",
     "output_type": "stream",
     "text": [
      "Race: Amer-Indian-Eskimo, sex: Female\n",
      "count    119.000000\n",
      "mean      37.117647\n",
      "std       13.114991\n",
      "min       17.000000\n",
      "25%       27.000000\n",
      "50%       36.000000\n",
      "75%       46.000000\n",
      "max       80.000000\n",
      "Name: age, dtype: float64\n",
      "Race: Amer-Indian-Eskimo, sex: Male\n",
      "count    192.000000\n",
      "mean      37.208333\n",
      "std       12.049563\n",
      "min       17.000000\n",
      "25%       28.000000\n",
      "50%       35.000000\n",
      "75%       45.000000\n",
      "max       82.000000\n",
      "Name: age, dtype: float64\n",
      "Race: Asian-Pac-Islander, sex: Female\n",
      "count    346.000000\n",
      "mean      35.089595\n",
      "std       12.300845\n",
      "min       17.000000\n",
      "25%       25.000000\n",
      "50%       33.000000\n",
      "75%       43.750000\n",
      "max       75.000000\n",
      "Name: age, dtype: float64\n",
      "Race: Asian-Pac-Islander, sex: Male\n",
      "count    693.000000\n",
      "mean      39.073593\n",
      "std       12.883944\n",
      "min       18.000000\n",
      "25%       29.000000\n",
      "50%       37.000000\n",
      "75%       46.000000\n",
      "max       90.000000\n",
      "Name: age, dtype: float64\n",
      "Race: Black, sex: Female\n",
      "count    1555.000000\n",
      "mean       37.854019\n",
      "std        12.637197\n",
      "min        17.000000\n",
      "25%        28.000000\n",
      "50%        37.000000\n",
      "75%        46.000000\n",
      "max        90.000000\n",
      "Name: age, dtype: float64\n",
      "Race: Black, sex: Male\n",
      "count    1569.000000\n",
      "mean       37.682600\n",
      "std        12.882612\n",
      "min        17.000000\n",
      "25%        27.000000\n",
      "50%        36.000000\n",
      "75%        46.000000\n",
      "max        90.000000\n",
      "Name: age, dtype: float64\n",
      "Race: Other, sex: Female\n",
      "count    109.000000\n",
      "mean      31.678899\n",
      "std       11.631599\n",
      "min       17.000000\n",
      "25%       23.000000\n",
      "50%       29.000000\n",
      "75%       39.000000\n",
      "max       74.000000\n",
      "Name: age, dtype: float64\n",
      "Race: Other, sex: Male\n",
      "count    162.000000\n",
      "mean      34.654321\n",
      "std       11.355531\n",
      "min       17.000000\n",
      "25%       26.000000\n",
      "50%       32.000000\n",
      "75%       42.000000\n",
      "max       77.000000\n",
      "Name: age, dtype: float64\n",
      "Race: White, sex: Female\n",
      "count    8642.000000\n",
      "mean       36.811618\n",
      "std        14.329093\n",
      "min        17.000000\n",
      "25%        25.000000\n",
      "50%        35.000000\n",
      "75%        46.000000\n",
      "max        90.000000\n",
      "Name: age, dtype: float64\n",
      "Race: White, sex: Male\n",
      "count    19174.000000\n",
      "mean        39.652498\n",
      "std         13.436029\n",
      "min         17.000000\n",
      "25%         29.000000\n",
      "50%         38.000000\n",
      "75%         49.000000\n",
      "max         90.000000\n",
      "Name: age, dtype: float64\n"
     ]
    }
   ],
   "source": [
    "for (race, sex), sub_df in data.groupby([\"race\", \"sex\"]):\n",
    "    print(f\"Race: {race}, sex: {sex}\")\n",
    "    print(sub_df[\"age\"].describe())"
   ]
  },
  {
   "cell_type": "markdown",
   "metadata": {},
   "source": [
    "**8. Среди кого выше доля тех, кто зарабатывает много (>50 тыс.): женатых или холостых мужчин (признак *marital-status*)? Считать женатыми тех, у кого *marital-status* начинается с *Married* (*Married-civ-spouse*, *Married-spouse-absent* или *Married-AF-spouse*), остальные считаются холостяками**"
   ]
  },
  {
   "cell_type": "code",
   "execution_count": 9,
   "metadata": {},
   "outputs": [
    {
     "name": "stdout",
     "output_type": "stream",
     "text": [
      "married men\n",
      "<=50K    0.559486\n",
      ">50K     0.440514\n",
      "Name: salary, dtype: float64\n",
      "\n",
      "single men\n",
      "<=50K    0.915505\n",
      ">50K     0.084495\n",
      "Name: salary, dtype: float64\n"
     ]
    }
   ],
   "source": [
    "print(\"married men\")\n",
    "print(data[\n",
    "    (data[\"sex\"] == \"Male\")\n",
    "    & (data[\"marital-status\"].str.startswith(\"Married\"))\n",
    "][\"salary\"].value_counts(normalize=True))\n",
    "\n",
    "print(\"\\nsingle men\")\n",
    "print(data[\n",
    "    (data[\"sex\"] == \"Male\")\n",
    "    & ~(data[\"marital-status\"].str.startswith(\"Married\"))\n",
    "][\"salary\"].value_counts(normalize=True))"
   ]
  },
  {
   "cell_type": "markdown",
   "metadata": {},
   "source": [
    "**9. Каково максимальное количество часов, которое человек работает в неделю (характеристика *hours-per-week*)? Сколько человек работает такое количество часов, и каков процент тех, кто зарабатывает много (>50 тыс.) среди них?**"
   ]
  },
  {
   "cell_type": "code",
   "execution_count": 10,
   "metadata": {},
   "outputs": [
    {
     "name": "stdout",
     "output_type": "stream",
     "text": [
      "Max time: 99 hours/week\n",
      "Count of hardworkers: 85\n",
      "Percent of rich hardworkers: 29.41%\n"
     ]
    }
   ],
   "source": [
    "max_hours_per_week = data[\"hours-per-week\"].max()\n",
    "print(f\"Max time: {max_hours_per_week} hours/week\")\n",
    "\n",
    "count_of_hardworkers = data[data[\"hours-per-week\"] == max_hours_per_week].shape[0]\n",
    "print(f\"Count of hardworkers: {count_of_hardworkers}\")\n",
    "\n",
    "percent_of_rich_hardworkers = (data[\n",
    "    (data[\"hours-per-week\"] == max_hours_per_week)\n",
    "    & (data[\"salary\"] == \">50K\")\n",
    "].shape[0]) / count_of_hardworkers * 100.\n",
    "print(f\"Percent of rich hardworkers: {percent_of_rich_hardworkers:.2f}%\")"
   ]
  },
  {
   "cell_type": "markdown",
   "metadata": {},
   "source": [
    "**10. Подсчитайте среднее время работы (*hours-per-week*) для тех, кто зарабатывает мало и много (*salary*), для каждой страны (*native-country*). Какими они будут для Японии?**"
   ]
  },
  {
   "cell_type": "code",
   "execution_count": 11,
   "metadata": {},
   "outputs": [
    {
     "name": "stdout",
     "output_type": "stream",
     "text": [
      "country                    salary mean_hours_per_week\n",
      "?                          <=50K  40.16\n",
      "?                          >50K   45.55\n",
      "Cambodia                   <=50K  41.42\n",
      "Cambodia                   >50K   40.00\n",
      "Canada                     <=50K  37.91\n",
      "Canada                     >50K   45.64\n",
      "China                      <=50K  37.38\n",
      "China                      >50K   38.90\n",
      "Columbia                   <=50K  38.68\n",
      "Columbia                   >50K   50.00\n",
      "Cuba                       <=50K  37.99\n",
      "Cuba                       >50K   42.44\n",
      "Dominican-Republic         <=50K  42.34\n",
      "Dominican-Republic         >50K   47.00\n",
      "Ecuador                    <=50K  38.04\n",
      "Ecuador                    >50K   48.75\n",
      "El-Salvador                <=50K  36.03\n",
      "El-Salvador                >50K   45.00\n",
      "England                    <=50K  40.48\n",
      "England                    >50K   44.53\n",
      "France                     <=50K  41.06\n",
      "France                     >50K   50.75\n",
      "Germany                    <=50K  39.14\n",
      "Germany                    >50K   44.98\n",
      "Greece                     <=50K  41.81\n",
      "Greece                     >50K   50.62\n",
      "Guatemala                  <=50K  39.36\n",
      "Guatemala                  >50K   36.67\n",
      "Haiti                      <=50K  36.33\n",
      "Haiti                      >50K   42.75\n",
      "Holand-Netherlands         <=50K  40.00\n",
      "Honduras                   <=50K  34.33\n",
      "Honduras                   >50K   60.00\n",
      "Hong                       <=50K  39.14\n",
      "Hong                       >50K   45.00\n",
      "Hungary                    <=50K  31.30\n",
      "Hungary                    >50K   50.00\n",
      "India                      <=50K  38.23\n",
      "India                      >50K   46.48\n",
      "Iran                       <=50K  41.44\n",
      "Iran                       >50K   47.50\n",
      "Ireland                    <=50K  40.95\n",
      "Ireland                    >50K   48.00\n",
      "Italy                      <=50K  39.62\n",
      "Italy                      >50K   45.40\n",
      "Jamaica                    <=50K  38.24\n",
      "Jamaica                    >50K   41.10\n",
      "Japan                      <=50K  41.00\n",
      "Japan                      >50K   47.96\n",
      "Laos                       <=50K  40.38\n",
      "Laos                       >50K   40.00\n",
      "Mexico                     <=50K  40.00\n",
      "Mexico                     >50K   46.58\n",
      "Nicaragua                  <=50K  36.09\n",
      "Nicaragua                  >50K   37.50\n",
      "Outlying-US(Guam-USVI-etc) <=50K  41.86\n",
      "Peru                       <=50K  35.07\n",
      "Peru                       >50K   40.00\n",
      "Philippines                <=50K  38.07\n",
      "Philippines                >50K   43.03\n",
      "Poland                     <=50K  38.17\n",
      "Poland                     >50K   39.00\n",
      "Portugal                   <=50K  41.94\n",
      "Portugal                   >50K   41.50\n",
      "Puerto-Rico                <=50K  38.47\n",
      "Puerto-Rico                >50K   39.42\n",
      "Scotland                   <=50K  39.44\n",
      "Scotland                   >50K   46.67\n",
      "South                      <=50K  40.16\n",
      "South                      >50K   51.44\n",
      "Taiwan                     <=50K  33.77\n",
      "Taiwan                     >50K   46.80\n",
      "Thailand                   <=50K  42.87\n",
      "Thailand                   >50K   58.33\n",
      "Trinadad&Tobago            <=50K  37.06\n",
      "Trinadad&Tobago            >50K   40.00\n",
      "United-States              <=50K  38.80\n",
      "United-States              >50K   45.51\n",
      "Vietnam                    <=50K  37.19\n",
      "Vietnam                    >50K   39.20\n",
      "Yugoslavia                 <=50K  41.60\n",
      "Yugoslavia                 >50K   49.50\n"
     ]
    }
   ],
   "source": [
    "print(f'{\"country\":26} {\"salary\":6} mean_hours_per_week')\n",
    "for (country, salary), sub_df in data.groupby([\"native-country\", \"salary\"]):\n",
    "    print(f'{country:26} {salary:6} {sub_df[\"hours-per-week\"].mean():.2f}')"
   ]
  }
 ],
 "metadata": {
  "anaconda-cloud": {},
  "kernelspec": {
   "display_name": "Python 3 (ipykernel)",
   "language": "python",
   "name": "python3"
  },
  "language_info": {
   "codemirror_mode": {
    "name": "ipython",
    "version": 3
   },
   "file_extension": ".py",
   "mimetype": "text/x-python",
   "name": "python",
   "nbconvert_exporter": "python",
   "pygments_lexer": "ipython3",
   "version": "3.10.6"
  }
 },
 "nbformat": 4,
 "nbformat_minor": 1
}
