{
 "cells": [
  {
   "cell_type": "markdown",
   "metadata": {},
   "source": [
    "<center>\n",
    "<img src=\"https://habrastorage.org/webt/ia/m9/zk/iam9zkyzqebnf_okxipihkgjwnw.jpeg\" />\n",
    "    \n",
    "## [mlcourse.ai](https://mlcourse.ai) - Open Machine Learning Course\n",
    "\n",
    "Автор: [Yury Kashnitsky](https://yorko.github.io). Все материалы распространяются под [Creative Commons CC BY-NC-SA 4.0](https://creativecommons.org/licenses/by-nc-sa/4.0/)."
   ]
  },
  {
   "cell_type": "markdown",
   "metadata": {},
   "source": [
    "# Задание #1\n",
    "## Исследовательский анализ данных (EDA) Олимпийских игр с помощью Pandas\n",
    "<img src=\"https://habrastorage.org/webt/my/70/d9/my70d97xhwfj8krp2q2qmn_smww.png\" width=50%>"
   ]
  },
  {
   "cell_type": "markdown",
   "metadata": {},
   "source": [
    "В этом задании десять вопросов, посвященных 120-летней истории Олимпийских игр.\n",
    "\n",
    "### Ваша задача состоит в том, чтобы:\n",
    " 1. Написать код и выполнить вычисления в ячейках ниже.\n",
    " 2. Выбрать ответы в [веб-форме](https://docs.google.com/forms/d/1SJcNJxnY5Wwb_sDSxmb-FyghraeOt-ZmQMA0XzOLu4I).\n",
    " \n",
    "*Если Вы уверены, что в задании/решении что-то не соответствует действительности на 100%, пожалуйста, оставьте свой отзыв через указанную веб-форму ↑*\n",
    "\n",
    "-----"
   ]
  },
  {
   "cell_type": "code",
   "execution_count": 1,
   "metadata": {},
   "outputs": [],
   "source": [
    "import numpy as np\n",
    "import pandas as pd\n",
    "pd.set_option(\"display.max.columns\", 100)\n",
    "\n",
    "# to draw pictures in jupyter notebook\n",
    "%matplotlib inline\n",
    "import warnings\n",
    "import matplotlib.pyplot as plt\n",
    "import seaborn as sns\n",
    "\n",
    "warnings.filterwarnings(\"ignore\")"
   ]
  },
  {
   "cell_type": "code",
   "execution_count": 2,
   "metadata": {},
   "outputs": [
    {
     "data": {
      "text/html": [
       "<div>\n",
       "<style scoped>\n",
       "    .dataframe tbody tr th:only-of-type {\n",
       "        vertical-align: middle;\n",
       "    }\n",
       "\n",
       "    .dataframe tbody tr th {\n",
       "        vertical-align: top;\n",
       "    }\n",
       "\n",
       "    .dataframe thead th {\n",
       "        text-align: right;\n",
       "    }\n",
       "</style>\n",
       "<table border=\"1\" class=\"dataframe\">\n",
       "  <thead>\n",
       "    <tr style=\"text-align: right;\">\n",
       "      <th></th>\n",
       "      <th>Name</th>\n",
       "      <th>Sex</th>\n",
       "      <th>Age</th>\n",
       "      <th>Height</th>\n",
       "      <th>Weight</th>\n",
       "      <th>Team</th>\n",
       "      <th>NOC</th>\n",
       "      <th>Games</th>\n",
       "      <th>Year</th>\n",
       "      <th>Season</th>\n",
       "      <th>City</th>\n",
       "      <th>Sport</th>\n",
       "      <th>Event</th>\n",
       "      <th>Medal</th>\n",
       "    </tr>\n",
       "    <tr>\n",
       "      <th>ID</th>\n",
       "      <th></th>\n",
       "      <th></th>\n",
       "      <th></th>\n",
       "      <th></th>\n",
       "      <th></th>\n",
       "      <th></th>\n",
       "      <th></th>\n",
       "      <th></th>\n",
       "      <th></th>\n",
       "      <th></th>\n",
       "      <th></th>\n",
       "      <th></th>\n",
       "      <th></th>\n",
       "      <th></th>\n",
       "    </tr>\n",
       "  </thead>\n",
       "  <tbody>\n",
       "    <tr>\n",
       "      <th>1</th>\n",
       "      <td>A Dijiang</td>\n",
       "      <td>M</td>\n",
       "      <td>24.0</td>\n",
       "      <td>180.0</td>\n",
       "      <td>80.0</td>\n",
       "      <td>China</td>\n",
       "      <td>CHN</td>\n",
       "      <td>1992 Summer</td>\n",
       "      <td>1992</td>\n",
       "      <td>Summer</td>\n",
       "      <td>Barcelona</td>\n",
       "      <td>Basketball</td>\n",
       "      <td>Basketball Men's Basketball</td>\n",
       "      <td>NaN</td>\n",
       "    </tr>\n",
       "    <tr>\n",
       "      <th>2</th>\n",
       "      <td>A Lamusi</td>\n",
       "      <td>M</td>\n",
       "      <td>23.0</td>\n",
       "      <td>170.0</td>\n",
       "      <td>60.0</td>\n",
       "      <td>China</td>\n",
       "      <td>CHN</td>\n",
       "      <td>2012 Summer</td>\n",
       "      <td>2012</td>\n",
       "      <td>Summer</td>\n",
       "      <td>London</td>\n",
       "      <td>Judo</td>\n",
       "      <td>Judo Men's Extra-Lightweight</td>\n",
       "      <td>NaN</td>\n",
       "    </tr>\n",
       "  </tbody>\n",
       "</table>\n",
       "</div>"
      ],
      "text/plain": [
       "         Name Sex   Age  Height  Weight   Team  NOC        Games  Year  \\\n",
       "ID                                                                       \n",
       "1   A Dijiang   M  24.0   180.0    80.0  China  CHN  1992 Summer  1992   \n",
       "2    A Lamusi   M  23.0   170.0    60.0  China  CHN  2012 Summer  2012   \n",
       "\n",
       "    Season       City       Sport                         Event Medal  \n",
       "ID                                                                     \n",
       "1   Summer  Barcelona  Basketball   Basketball Men's Basketball   NaN  \n",
       "2   Summer     London        Judo  Judo Men's Extra-Lightweight   NaN  "
      ]
     },
     "execution_count": 2,
     "metadata": {},
     "output_type": "execute_result"
    }
   ],
   "source": [
    "df = pd.read_csv(\"../data/athlete_events.csv.zip\", index_col=\"ID\")\n",
    "df.head(2)"
   ]
  },
  {
   "cell_type": "markdown",
   "metadata": {},
   "source": [
    " Набор данных имеет следующие признаки:\n",
    "\n",
    "- __ID__ – Уникальный номер для каждого спортсмена\n",
    "- __Name__ – Имя спортсмена\n",
    "- __Sex__ – M или F\n",
    "- __Age__ – Целое число\n",
    "- __Height__ – В сантиметрах\n",
    "- __Weight__ – В килограммах\n",
    "- __Team__ – Название команды\n",
    "- __NOC__ – Национальный Олимпийский Комитет 3-буквенный код\n",
    "- __Games__ – Год и сезон\n",
    "- __Year__ – Целое число\n",
    "- __Season__ – Лето или Зима\n",
    "- __City__ – Host city\n",
    "- __Sport__ – Спорт\n",
    "- __Event__ – Событие\n",
    "- __Medal__ – Золото, Серебро, Бронза или NA"
   ]
  },
  {
   "cell_type": "markdown",
   "metadata": {},
   "source": [
    "**1. Сколько лет было самым юным участникам Олимпийских игр 1992 года среди мужчин и женщин?**\n",
    "\n",
    "- 16 и 15\n",
    "- 14 и 13 \n",
    "- 13 и 11\n",
    "- 11 и 12"
   ]
  },
  {
   "cell_type": "code",
   "execution_count": 3,
   "metadata": {},
   "outputs": [
    {
     "data": {
      "text/plain": [
       "(11.0, 12.0)"
      ]
     },
     "execution_count": 3,
     "metadata": {},
     "output_type": "execute_result"
    }
   ],
   "source": [
    "df[(df[\"Year\"] == 1992) & (df[\"Sex\"] == \"M\")][\"Age\"].min(), \\\n",
    "df[(df[\"Year\"] == 1992) & (df[\"Sex\"] == \"F\")][\"Age\"].min()"
   ]
  },
  {
   "cell_type": "markdown",
   "metadata": {},
   "source": [
    "**2. Какова доля мужчин-баскетболистов среди всех мужчин-участников Олимпийских игр 2012 года? Округлите ответ до первого десятичного знака**.\n",
    "\n",
    "*Подсказка:* отбросьте дубликаты спортсменов там, где это необходимо, чтобы посчитать каждого спортсмена только один раз. Это относится и к другим вопросам.\n",
    "\n",
    "- 0.2\n",
    "- 1.5 \n",
    "- 2.5\n",
    "- 7.7"
   ]
  },
  {
   "cell_type": "code",
   "execution_count": 4,
   "metadata": {},
   "outputs": [
    {
     "name": "stdout",
     "output_type": "stream",
     "text": [
      "2.46%\n"
     ]
    }
   ],
   "source": [
    "query = '(Year == 2012) & (Sex == \"M\")'\n",
    "count_of_sportsmen_2012_m = len(df.query(query).drop_duplicates(subset=\"Name\"))\n",
    "count_of_basketball_2012_m = len(df.query(query + ' & (Sport == \"Basketball\")').drop_duplicates(subset=\"Name\"))\n",
    "percent = count_of_basketball_2012_m / count_of_sportsmen_2012_m * 100.\n",
    "print(f\"{percent:.2f}%\")"
   ]
  },
  {
   "cell_type": "markdown",
   "metadata": {},
   "source": [
    "**3. Каковы среднее (mean) и стандартное отклонение (standard deviation) роста теннисисток, участвовавших в Олимпийских играх 2000 года? Округлите ответ до первого десятичного знака.**\n",
    "\n",
    "- 171.8 и 6.5\n",
    "- 179.4 и 10\n",
    "- 180.7 и 6.7\n",
    "- 182.4 и 9.1 "
   ]
  },
  {
   "cell_type": "code",
   "execution_count": 5,
   "metadata": {},
   "outputs": [
    {
     "name": "stdout",
     "output_type": "stream",
     "text": [
      "Height of female tennis players (year 2000): 171.8+-6.5\n"
     ]
    }
   ],
   "source": [
    "tennis_2000_f = df.query('(Year == 2000) & (Sex == \"F\") & (Sport == \"Tennis\")')[\"Height\"]\n",
    "print(f\"Height of female tennis players (year 2000): {tennis_2000_f.mean():.1f}+-{tennis_2000_f.std():.1f}\")"
   ]
  },
  {
   "cell_type": "markdown",
   "metadata": {},
   "source": [
    "**4. Найдите самого тяжелого спортсмена среди участников Олимпиады 2006 года. Каким видом спорта он или она занимались?**\n",
    "\n",
    "- Judo\n",
    "- Bobsleigh \n",
    "- Skeleton\n",
    "- Boxing"
   ]
  },
  {
   "cell_type": "code",
   "execution_count": 6,
   "metadata": {},
   "outputs": [
    {
     "name": "stdout",
     "output_type": "stream",
     "text": [
      "Sport of heaviest athlete 2006: Skeleton\n"
     ]
    }
   ],
   "source": [
    "max_weight_2006_idx = df.query('Year == 2006')[\"Weight\"].idxmax()\n",
    "heaviest_athlete_2006 = df.query(f'(Year == 2006)').loc[max_weight_2006_idx]\n",
    "print(f'Sport of heaviest athlete 2006: {heaviest_athlete_2006[\"Sport\"]}')"
   ]
  },
  {
   "cell_type": "markdown",
   "metadata": {},
   "source": [
    "**5. Сколько раз Джон Аалберг (John Aalberg) принимал участие в Олимпийских играх, проводившихся в разные годы?**\n",
    "\n",
    "- 0\n",
    "- 1 \n",
    "- 2\n",
    "- 3 "
   ]
  },
  {
   "cell_type": "code",
   "execution_count": 7,
   "metadata": {},
   "outputs": [
    {
     "data": {
      "text/plain": [
       "2"
      ]
     },
     "execution_count": 7,
     "metadata": {},
     "output_type": "execute_result"
    }
   ],
   "source": [
    "len(df.query('Name == \"John Aalberg\"').groupby('Year'))"
   ]
  },
  {
   "cell_type": "markdown",
   "metadata": {},
   "source": [
    "**6. Сколько золотых медалей в теннисе завоевала команда Швейцарии на Олимпийских играх 2008 года?**\n",
    "\n",
    "- 0\n",
    "- 1 \n",
    "- 2\n",
    "- 3 "
   ]
  },
  {
   "cell_type": "code",
   "execution_count": 8,
   "metadata": {},
   "outputs": [
    {
     "data": {
      "text/plain": [
       "2"
      ]
     },
     "execution_count": 8,
     "metadata": {},
     "output_type": "execute_result"
    }
   ],
   "source": [
    "df.query('(Year == 2008) & (Team == \"Switzerland\")') \\\n",
    "    .groupby([\"Medal\", \"Sport\"]).get_group((\"Gold\", \"Tennis\")).shape[0]"
   ]
  },
  {
   "cell_type": "markdown",
   "metadata": {},
   "source": [
    "**7. Верно ли, что на Олимпийских играх 2016 года Испания завоевала меньше медалей, чем Италия? Не учитывайте NaN-значения в столбце _Medal_.**\n",
    "\n",
    "- Yes\n",
    "- No"
   ]
  },
  {
   "cell_type": "code",
   "execution_count": 9,
   "metadata": {},
   "outputs": [
    {
     "data": {
      "text/plain": [
       "(43, 70, True)"
      ]
     },
     "execution_count": 9,
     "metadata": {},
     "output_type": "execute_result"
    }
   ],
   "source": [
    "spain_medals = len(df.query('(Year == 2016) & (Team == \"Spain\")').dropna(subset=[\"Medal\"]))\n",
    "italy_medals = len(df.query('(Year == 2016) & (Team == \"Italy\")').dropna(subset=[\"Medal\"]))\n",
    "spain_medals, italy_medals, spain_medals <= italy_medals"
   ]
  },
  {
   "cell_type": "markdown",
   "metadata": {},
   "source": [
    "**8. Каковы наименее и наиболее распространенные возрастные группы среди участников Олимпийских игр 2008 года?**\n",
    "- [45-55] и [25-35) сответственно\n",
    "- [45-55] и [15-25) сответственно\n",
    "- [35-45) и [25-35) сответственно\n",
    "- [45-55] и [35-45) сответственно"
   ]
  },
  {
   "cell_type": "code",
   "execution_count": 10,
   "metadata": {},
   "outputs": [
    {
     "data": {
      "text/plain": [
       "age_cat\n",
       "[15, 25)    4776\n",
       "[25, 35)    5373\n",
       "[35, 45)     630\n",
       "[45, 55]      78\n",
       "dtype: int64"
      ]
     },
     "execution_count": 10,
     "metadata": {},
     "output_type": "execute_result"
    }
   ],
   "source": [
    "def age_cat(age: int) -> str:\n",
    "    if 15 <= age < 25:\n",
    "        return \"[15, 25)\"\n",
    "    elif 25 <= age < 35:\n",
    "        return \"[25, 35)\"\n",
    "    elif 35 <= age < 45:\n",
    "        return \"[35, 45)\"\n",
    "    elif 45 <= age <= 55:\n",
    "        return \"[45, 55]\"\n",
    "\n",
    "\n",
    "df[\"age_cat\"] = df[\"Age\"].map(age_cat)\n",
    "df[df[\"Year\"] == 2008].drop_duplicates(subset=\"Name\").groupby(\"age_cat\").size()"
   ]
  },
  {
   "cell_type": "markdown",
   "metadata": {},
   "source": [
    "**9. Верно ли, что летние Олимпийские игры проходили в Атланте (Atlanta)? Верно ли, что зимние Олимпийские игры проводились в Скво-Вэлли (Squaw Valley)?**\n",
    "\n",
    "- Yes, Yes\n",
    "- Yes, No\n",
    "- No, Yes \n",
    "- No, No "
   ]
  },
  {
   "cell_type": "code",
   "execution_count": 11,
   "metadata": {},
   "outputs": [
    {
     "data": {
      "text/html": [
       "<div>\n",
       "<style scoped>\n",
       "    .dataframe tbody tr th:only-of-type {\n",
       "        vertical-align: middle;\n",
       "    }\n",
       "\n",
       "    .dataframe tbody tr th {\n",
       "        vertical-align: top;\n",
       "    }\n",
       "\n",
       "    .dataframe thead th {\n",
       "        text-align: right;\n",
       "    }\n",
       "</style>\n",
       "<table border=\"1\" class=\"dataframe\">\n",
       "  <thead>\n",
       "    <tr style=\"text-align: right;\">\n",
       "      <th>Season</th>\n",
       "      <th>Summer</th>\n",
       "      <th>Winter</th>\n",
       "    </tr>\n",
       "    <tr>\n",
       "      <th>City</th>\n",
       "      <th></th>\n",
       "      <th></th>\n",
       "    </tr>\n",
       "  </thead>\n",
       "  <tbody>\n",
       "    <tr>\n",
       "      <th>Atlanta</th>\n",
       "      <td>13780</td>\n",
       "      <td>0</td>\n",
       "    </tr>\n",
       "    <tr>\n",
       "      <th>Squaw Valley</th>\n",
       "      <td>0</td>\n",
       "      <td>1116</td>\n",
       "    </tr>\n",
       "  </tbody>\n",
       "</table>\n",
       "</div>"
      ],
      "text/plain": [
       "Season        Summer  Winter\n",
       "City                        \n",
       "Atlanta        13780       0\n",
       "Squaw Valley       0    1116"
      ]
     },
     "execution_count": 11,
     "metadata": {},
     "output_type": "execute_result"
    }
   ],
   "source": [
    "pd.crosstab(df[\"City\"], df[\"Season\"]).loc[[\"Atlanta\", \"Squaw Valley\"]]"
   ]
  },
  {
   "cell_type": "markdown",
   "metadata": {},
   "source": [
    "**10. Какова абсолютная разница между количеством уникальных видов спорта на Олимпиаде 1994 года и Олимпиаде 2002 года?**\n",
    "\n",
    "- 3\n",
    "- 10\n",
    "- 15 \n",
    "- 27 "
   ]
  },
  {
   "cell_type": "code",
   "execution_count": 12,
   "metadata": {},
   "outputs": [
    {
     "data": {
      "text/plain": [
       "3"
      ]
     },
     "execution_count": 12,
     "metadata": {},
     "output_type": "execute_result"
    }
   ],
   "source": [
    "np.abs(df[df[\"Year\"] == 1994][\"Sport\"].nunique() - df[df[\"Year\"] == 2002][\"Sport\"].nunique())"
   ]
  }
 ],
 "metadata": {
  "kernelspec": {
   "display_name": "Python 3 (ipykernel)",
   "language": "python",
   "name": "python3"
  },
  "language_info": {
   "codemirror_mode": {
    "name": "ipython",
    "version": 3
   },
   "file_extension": ".py",
   "mimetype": "text/x-python",
   "name": "python",
   "nbconvert_exporter": "python",
   "pygments_lexer": "ipython3",
   "version": "3.10.6"
  }
 },
 "nbformat": 4,
 "nbformat_minor": 2
}
